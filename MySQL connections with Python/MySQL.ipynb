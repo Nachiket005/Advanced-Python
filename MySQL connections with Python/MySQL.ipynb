{
 "cells": [
  {
   "cell_type": "code",
   "execution_count": 1,
   "metadata": {},
   "outputs": [
    {
     "name": "stdout",
     "output_type": "stream",
     "text": [
      "Requirement already satisfied: ipython-sql in d:\\advanced python\\repository\\venv\\lib\\site-packages (0.5.0)Note: you may need to restart the kernel to use updated packages.\n",
      "\n",
      "Requirement already satisfied: mysql-connector-python in d:\\advanced python\\repository\\venv\\lib\\site-packages (8.1.0)\n",
      "Requirement already satisfied: prettytable in d:\\advanced python\\repository\\venv\\lib\\site-packages (from ipython-sql) (3.9.0)\n",
      "Requirement already satisfied: ipython in d:\\advanced python\\repository\\venv\\lib\\site-packages (from ipython-sql) (8.15.0)\n",
      "Requirement already satisfied: sqlalchemy>=2.0 in d:\\advanced python\\repository\\venv\\lib\\site-packages (from ipython-sql) (2.0.21)\n",
      "Requirement already satisfied: sqlparse in d:\\advanced python\\repository\\venv\\lib\\site-packages (from ipython-sql) (0.4.4)\n",
      "Requirement already satisfied: six in d:\\advanced python\\repository\\venv\\lib\\site-packages (from ipython-sql) (1.16.0)\n",
      "Requirement already satisfied: ipython-genutils in d:\\advanced python\\repository\\venv\\lib\\site-packages (from ipython-sql) (0.2.0)\n",
      "Requirement already satisfied: protobuf<=4.21.12,>=4.21.1 in d:\\advanced python\\repository\\venv\\lib\\site-packages (from mysql-connector-python) (4.21.12)\n",
      "Requirement already satisfied: typing-extensions>=4.2.0 in d:\\advanced python\\repository\\venv\\lib\\site-packages (from sqlalchemy>=2.0->ipython-sql) (4.8.0)\n",
      "Requirement already satisfied: greenlet!=0.4.17 in d:\\advanced python\\repository\\venv\\lib\\site-packages (from sqlalchemy>=2.0->ipython-sql) (3.0.0)\n",
      "Requirement already satisfied: backcall in d:\\advanced python\\repository\\venv\\lib\\site-packages (from ipython->ipython-sql) (0.2.0)\n",
      "Requirement already satisfied: decorator in d:\\advanced python\\repository\\venv\\lib\\site-packages (from ipython->ipython-sql) (5.1.1)\n",
      "Requirement already satisfied: jedi>=0.16 in d:\\advanced python\\repository\\venv\\lib\\site-packages (from ipython->ipython-sql) (0.19.0)\n",
      "Requirement already satisfied: matplotlib-inline in d:\\advanced python\\repository\\venv\\lib\\site-packages (from ipython->ipython-sql) (0.1.6)\n",
      "Requirement already satisfied: pickleshare in d:\\advanced python\\repository\\venv\\lib\\site-packages (from ipython->ipython-sql) (0.7.5)\n",
      "Requirement already satisfied: prompt-toolkit!=3.0.37,<3.1.0,>=3.0.30 in d:\\advanced python\\repository\\venv\\lib\\site-packages (from ipython->ipython-sql) (3.0.39)\n",
      "Requirement already satisfied: pygments>=2.4.0 in d:\\advanced python\\repository\\venv\\lib\\site-packages (from ipython->ipython-sql) (2.16.1)\n",
      "Requirement already satisfied: stack-data in d:\\advanced python\\repository\\venv\\lib\\site-packages (from ipython->ipython-sql) (0.6.2)\n",
      "Requirement already satisfied: traitlets>=5 in d:\\advanced python\\repository\\venv\\lib\\site-packages (from ipython->ipython-sql) (5.9.0)\n",
      "Requirement already satisfied: colorama in d:\\advanced python\\repository\\venv\\lib\\site-packages (from ipython->ipython-sql) (0.4.6)\n",
      "Requirement already satisfied: wcwidth in d:\\advanced python\\repository\\venv\\lib\\site-packages (from prettytable->ipython-sql) (0.2.6)\n",
      "Requirement already satisfied: parso<0.9.0,>=0.8.3 in d:\\advanced python\\repository\\venv\\lib\\site-packages (from jedi>=0.16->ipython->ipython-sql) (0.8.3)\n",
      "Requirement already satisfied: executing>=1.2.0 in d:\\advanced python\\repository\\venv\\lib\\site-packages (from stack-data->ipython->ipython-sql) (1.2.0)\n",
      "Requirement already satisfied: asttokens>=2.1.0 in d:\\advanced python\\repository\\venv\\lib\\site-packages (from stack-data->ipython->ipython-sql) (2.4.0)\n",
      "Requirement already satisfied: pure-eval in d:\\advanced python\\repository\\venv\\lib\\site-packages (from stack-data->ipython->ipython-sql) (0.2.2)\n"
     ]
    }
   ],
   "source": [
    "%pip install ipython-sql mysql-connector-python\n"
   ]
  },
  {
   "cell_type": "code",
   "execution_count": 2,
   "metadata": {},
   "outputs": [],
   "source": [
    "import mysql.connector\n",
    "mydb = mysql.connector.connect(host='localhost',\n",
    "                               user='root',\n",
    "                               password='N@chiket1991')\n"
   ]
  },
  {
   "cell_type": "code",
   "execution_count": 3,
   "metadata": {},
   "outputs": [
    {
     "data": {
      "text/plain": [
       "<mysql.connector.connection_cext.CMySQLConnection at 0x2746db69e90>"
      ]
     },
     "execution_count": 3,
     "metadata": {},
     "output_type": "execute_result"
    }
   ],
   "source": [
    "mydb"
   ]
  },
  {
   "cell_type": "markdown",
   "metadata": {},
   "source": [
    "### Create a cursor to pass queries"
   ]
  },
  {
   "cell_type": "code",
   "execution_count": 5,
   "metadata": {},
   "outputs": [],
   "source": [
    "mycursor = mydb.cursor()"
   ]
  },
  {
   "cell_type": "markdown",
   "metadata": {},
   "source": [
    "### Creating a database"
   ]
  },
  {
   "cell_type": "code",
   "execution_count": 9,
   "metadata": {},
   "outputs": [],
   "source": [
    "query = \"CREATE  DATABASE IF NOT EXISTS NachiketETLHive\"\n",
    "mycursor.execute(query)"
   ]
  },
  {
   "cell_type": "code",
   "execution_count": 12,
   "metadata": {},
   "outputs": [],
   "source": [
    "query = \"use NachiketETLHive;\"\n",
    "mycursor.execute(query)"
   ]
  },
  {
   "cell_type": "code",
   "execution_count": 15,
   "metadata": {},
   "outputs": [],
   "source": [
    "query = \"\"\"CREATE TABLE Students(\n",
    "           RollNo int,\n",
    "           Name VARCHAR(50),\n",
    "           Marks Float);\"\"\"\n",
    "mycursor.execute(query)"
   ]
  },
  {
   "cell_type": "markdown",
   "metadata": {},
   "source": [
    "### Close the cursor and connections"
   ]
  },
  {
   "cell_type": "code",
   "execution_count": 16,
   "metadata": {},
   "outputs": [
    {
     "data": {
      "text/plain": [
       "True"
      ]
     },
     "execution_count": 16,
     "metadata": {},
     "output_type": "execute_result"
    }
   ],
   "source": [
    "mycursor.close()"
   ]
  },
  {
   "cell_type": "code",
   "execution_count": 17,
   "metadata": {},
   "outputs": [],
   "source": [
    "mydb.close()"
   ]
  },
  {
   "cell_type": "code",
   "execution_count": null,
   "metadata": {},
   "outputs": [],
   "source": []
  }
 ],
 "metadata": {
  "kernelspec": {
   "display_name": "venv",
   "language": "python",
   "name": "python3"
  },
  "language_info": {
   "codemirror_mode": {
    "name": "ipython",
    "version": 3
   },
   "file_extension": ".py",
   "mimetype": "text/x-python",
   "name": "python",
   "nbconvert_exporter": "python",
   "pygments_lexer": "ipython3",
   "version": "3.11.5"
  }
 },
 "nbformat": 4,
 "nbformat_minor": 2
}
